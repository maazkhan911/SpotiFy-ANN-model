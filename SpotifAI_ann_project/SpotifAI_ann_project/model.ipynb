{
 "cells": [
  {
   "cell_type": "code",
   "execution_count": 1,
   "id": "a998de4e",
   "metadata": {},
   "outputs": [],
   "source": [
    "import pandas as pd\n",
    "import seaborn as sns\n",
    "import matplotlib.pyplot as plt\n",
    "from sklearn.preprocessing import StandardScaler , LabelEncoder\n",
    "from sklearn.model_selection import train_test_split\n",
    "from keras.models import Sequential\n",
    "from keras.layers import Dense , BatchNormalization , Dropout\n",
    "from keras.callbacks import EarlyStopping"
   ]
  },
  {
   "cell_type": "code",
   "execution_count": 2,
   "id": "a67ae773",
   "metadata": {},
   "outputs": [],
   "source": [
    "df = pd.read_csv(r\"C:\\datasets\\SpotifyFeatures.csv\")"
   ]
  },
  {
   "cell_type": "code",
   "execution_count": 3,
   "id": "67758e55",
   "metadata": {},
   "outputs": [],
   "source": [
    "pd.set_option('display.max_rows', None)\n",
    "pd.set_option('display.max_columns', None)"
   ]
  },
  {
   "cell_type": "code",
   "execution_count": 4,
   "id": "fcb68987",
   "metadata": {},
   "outputs": [],
   "source": [
    "df.drop(['artist_name' , 'track_name' , 'track_id'] , axis = 1 , inplace = True)"
   ]
  },
  {
   "cell_type": "code",
   "execution_count": 5,
   "id": "27b4116a",
   "metadata": {},
   "outputs": [],
   "source": [
    "numeric_col = ['acousticness' , 'danceability'\t, 'duration_ms' , 'energy' , 'instrumentalness' , 'liveness' , 'loudness' , 'speechiness' , 'tempo' , 'valence']\n",
    "for col in numeric_col:\n",
    "    q1 = df[col].quantile(0.10)\n",
    "    q3 = df[col].quantile(0.90)\n",
    "    IQR = q3 - q1\n",
    "    min_range = q1 - (1.5 * IQR)\n",
    "    max_range = q3 + (1.5 * IQR)\n",
    "    df = df[(df[col] >= (q1 - 1.5 * IQR)) & (df[col] <= (q3 + 1.5 * IQR))]"
   ]
  },
  {
   "cell_type": "code",
   "execution_count": 6,
   "id": "0e611699",
   "metadata": {},
   "outputs": [],
   "source": [
    "ss = StandardScaler()\n",
    "df[['tempo' , 'duration_ms']] = ss.fit_transform(df[['tempo' , 'duration_ms']])"
   ]
  },
  {
   "cell_type": "code",
   "execution_count": 7,
   "id": "a3585296",
   "metadata": {},
   "outputs": [],
   "source": [
    "top_9_genres = df['genre'].value_counts().nlargest(9).index\n",
    "df['genre'] = df['genre'].apply(lambda x: x if x in top_9_genres else 'Other')"
   ]
  },
  {
   "cell_type": "code",
   "execution_count": 8,
   "id": "198a2e35",
   "metadata": {},
   "outputs": [],
   "source": [
    "df = pd.get_dummies(df , columns = ['genre' , 'mode' , 'key'] , drop_first = True)"
   ]
  },
  {
   "cell_type": "code",
   "execution_count": 9,
   "id": "9e4e52fd",
   "metadata": {},
   "outputs": [],
   "source": [
    "le = LabelEncoder()\n",
    "df['time_signature'] = le.fit_transform(df['time_signature'])"
   ]
  },
  {
   "cell_type": "code",
   "execution_count": 10,
   "id": "a9e85511",
   "metadata": {},
   "outputs": [],
   "source": [
    "# corr_matrix = df.corr()\n",
    "\n",
    "# plt.figure(figsize=(17, 11)) \n",
    "# sns.heatmap(corr_matrix, annot=True, cmap='coolwarm', fmt='.2f', linewidths=0.5)\n",
    "# plt.title('Feature Correlation Heatmap')\n",
    "# plt.show()"
   ]
  },
  {
   "cell_type": "code",
   "execution_count": 11,
   "id": "d564512f",
   "metadata": {},
   "outputs": [],
   "source": [
    "x = df.drop('popularity' , axis = 1)\n",
    "y = df.popularity"
   ]
  },
  {
   "cell_type": "code",
   "execution_count": 12,
   "id": "f07ca512",
   "metadata": {},
   "outputs": [],
   "source": [
    "x_train , x_test , y_train , y_test = train_test_split(x , y , test_size = 0.25 , random_state = True , stratify = y)"
   ]
  },
  {
   "cell_type": "code",
   "execution_count": 13,
   "id": "3ab3bdac",
   "metadata": {},
   "outputs": [
    {
     "name": "stderr",
     "output_type": "stream",
     "text": [
      "C:\\Users\\HomePC\\AppData\\Roaming\\Python\\Python310\\site-packages\\keras\\src\\layers\\core\\dense.py:87: UserWarning: Do not pass an `input_shape`/`input_dim` argument to a layer. When using Sequential models, prefer using an `Input(shape)` object as the first layer in the model instead.\n",
      "  super().__init__(activity_regularizer=activity_regularizer, **kwargs)\n"
     ]
    }
   ],
   "source": [
    "ann = Sequential()\n",
    "\n",
    "ann.add(Dense(256 , activation = 'relu' , input_shape = (x_train.shape[1] , )))\n",
    "ann.add(BatchNormalization())\n",
    "ann.add(Dense(128 , activation = 'relu'))\n",
    "ann.add(BatchNormalization())\n",
    "ann.add(Dense(64 , activation = 'relu'))\n",
    "ann.add(Dropout(0.2))\n",
    "ann.add(Dense(32 , activation = 'relu'))\n",
    "ann.add(Dropout(0.2))\n",
    "ann.add(Dense(16 , activation = 'relu'))\n",
    "ann.add(Dropout(0.2))\n",
    "ann.add(Dense(8 , activation = 'relu'))\n",
    "ann.add(Dense(1))"
   ]
  },
  {
   "cell_type": "code",
   "execution_count": 14,
   "id": "728c7eae",
   "metadata": {},
   "outputs": [],
   "source": [
    "ann.compile(loss = 'mean_squared_error' , optimizer = 'adam' , metrics = ['mae'])"
   ]
  },
  {
   "cell_type": "code",
   "execution_count": 15,
   "id": "7deb724f",
   "metadata": {},
   "outputs": [],
   "source": [
    "early_stop = EarlyStopping(monitor = 'val_loss' , patience = 5 , restore_best_weights = True)"
   ]
  },
  {
   "cell_type": "code",
   "execution_count": 16,
   "id": "e6945fbe",
   "metadata": {},
   "outputs": [
    {
     "name": "stdout",
     "output_type": "stream",
     "text": [
      "Epoch 1/100\n",
      "\u001b[1m5188/5188\u001b[0m \u001b[32m━━━━━━━━━━━━━━━━━━━━\u001b[0m\u001b[37m\u001b[0m \u001b[1m16s\u001b[0m 3ms/step - loss: 352.1680 - mae: 14.3570 - val_loss: 269.7699 - val_mae: 13.5730\n",
      "Epoch 2/100\n",
      "\u001b[1m5188/5188\u001b[0m \u001b[32m━━━━━━━━━━━━━━━━━━━━\u001b[0m\u001b[37m\u001b[0m \u001b[1m14s\u001b[0m 3ms/step - loss: 198.3062 - mae: 10.9505 - val_loss: 248.4139 - val_mae: 12.9555\n",
      "Epoch 3/100\n",
      "\u001b[1m5188/5188\u001b[0m \u001b[32m━━━━━━━━━━━━━━━━━━━━\u001b[0m\u001b[37m\u001b[0m \u001b[1m13s\u001b[0m 3ms/step - loss: 188.6045 - mae: 10.6428 - val_loss: 257.5231 - val_mae: 13.1834\n",
      "Epoch 4/100\n",
      "\u001b[1m5188/5188\u001b[0m \u001b[32m━━━━━━━━━━━━━━━━━━━━\u001b[0m\u001b[37m\u001b[0m \u001b[1m13s\u001b[0m 2ms/step - loss: 183.3578 - mae: 10.4560 - val_loss: 239.4384 - val_mae: 12.4921\n",
      "Epoch 5/100\n",
      "\u001b[1m5188/5188\u001b[0m \u001b[32m━━━━━━━━━━━━━━━━━━━━\u001b[0m\u001b[37m\u001b[0m \u001b[1m14s\u001b[0m 3ms/step - loss: 178.3902 - mae: 10.2942 - val_loss: 258.9440 - val_mae: 12.8465\n",
      "Epoch 6/100\n",
      "\u001b[1m5188/5188\u001b[0m \u001b[32m━━━━━━━━━━━━━━━━━━━━\u001b[0m\u001b[37m\u001b[0m \u001b[1m13s\u001b[0m 3ms/step - loss: 178.8549 - mae: 10.2974 - val_loss: 239.9086 - val_mae: 12.5899\n",
      "Epoch 7/100\n",
      "\u001b[1m5188/5188\u001b[0m \u001b[32m━━━━━━━━━━━━━━━━━━━━\u001b[0m\u001b[37m\u001b[0m \u001b[1m14s\u001b[0m 3ms/step - loss: 176.8513 - mae: 10.2482 - val_loss: 235.2078 - val_mae: 12.4349\n",
      "Epoch 8/100\n",
      "\u001b[1m5188/5188\u001b[0m \u001b[32m━━━━━━━━━━━━━━━━━━━━\u001b[0m\u001b[37m\u001b[0m \u001b[1m15s\u001b[0m 3ms/step - loss: 173.2775 - mae: 10.1164 - val_loss: 276.3557 - val_mae: 13.1329\n",
      "Epoch 9/100\n",
      "\u001b[1m5188/5188\u001b[0m \u001b[32m━━━━━━━━━━━━━━━━━━━━\u001b[0m\u001b[37m\u001b[0m \u001b[1m14s\u001b[0m 3ms/step - loss: 173.6837 - mae: 10.1103 - val_loss: 251.7265 - val_mae: 12.8506\n",
      "Epoch 10/100\n",
      "\u001b[1m5188/5188\u001b[0m \u001b[32m━━━━━━━━━━━━━━━━━━━━\u001b[0m\u001b[37m\u001b[0m \u001b[1m15s\u001b[0m 3ms/step - loss: 172.2580 - mae: 10.0772 - val_loss: 246.8699 - val_mae: 12.7342\n",
      "Epoch 11/100\n",
      "\u001b[1m5188/5188\u001b[0m \u001b[32m━━━━━━━━━━━━━━━━━━━━\u001b[0m\u001b[37m\u001b[0m \u001b[1m13s\u001b[0m 3ms/step - loss: 172.9498 - mae: 10.1072 - val_loss: 245.1111 - val_mae: 12.5834\n",
      "Epoch 12/100\n",
      "\u001b[1m5188/5188\u001b[0m \u001b[32m━━━━━━━━━━━━━━━━━━━━\u001b[0m\u001b[37m\u001b[0m \u001b[1m15s\u001b[0m 3ms/step - loss: 171.9163 - mae: 10.0336 - val_loss: 220.2449 - val_mae: 11.8709\n",
      "Epoch 13/100\n",
      "\u001b[1m5188/5188\u001b[0m \u001b[32m━━━━━━━━━━━━━━━━━━━━\u001b[0m\u001b[37m\u001b[0m \u001b[1m12s\u001b[0m 2ms/step - loss: 171.4977 - mae: 10.0342 - val_loss: 224.9702 - val_mae: 11.8611\n",
      "Epoch 14/100\n",
      "\u001b[1m5188/5188\u001b[0m \u001b[32m━━━━━━━━━━━━━━━━━━━━\u001b[0m\u001b[37m\u001b[0m \u001b[1m13s\u001b[0m 3ms/step - loss: 169.4649 - mae: 9.9523 - val_loss: 244.4487 - val_mae: 12.8061\n",
      "Epoch 15/100\n",
      "\u001b[1m5188/5188\u001b[0m \u001b[32m━━━━━━━━━━━━━━━━━━━━\u001b[0m\u001b[37m\u001b[0m \u001b[1m13s\u001b[0m 3ms/step - loss: 169.2460 - mae: 9.9347 - val_loss: 214.3388 - val_mae: 11.7162\n",
      "Epoch 16/100\n",
      "\u001b[1m5188/5188\u001b[0m \u001b[32m━━━━━━━━━━━━━━━━━━━━\u001b[0m\u001b[37m\u001b[0m \u001b[1m13s\u001b[0m 2ms/step - loss: 168.2260 - mae: 9.8976 - val_loss: 219.7875 - val_mae: 11.8674\n",
      "Epoch 17/100\n",
      "\u001b[1m5188/5188\u001b[0m \u001b[32m━━━━━━━━━━━━━━━━━━━━\u001b[0m\u001b[37m\u001b[0m \u001b[1m15s\u001b[0m 3ms/step - loss: 167.6055 - mae: 9.8711 - val_loss: 208.9843 - val_mae: 11.3528\n",
      "Epoch 18/100\n",
      "\u001b[1m5188/5188\u001b[0m \u001b[32m━━━━━━━━━━━━━━━━━━━━\u001b[0m\u001b[37m\u001b[0m \u001b[1m34s\u001b[0m 7ms/step - loss: 168.1602 - mae: 9.8925 - val_loss: 211.6552 - val_mae: 11.5212\n",
      "Epoch 19/100\n",
      "\u001b[1m5188/5188\u001b[0m \u001b[32m━━━━━━━━━━━━━━━━━━━━\u001b[0m\u001b[37m\u001b[0m \u001b[1m56s\u001b[0m 11ms/step - loss: 166.5471 - mae: 9.8227 - val_loss: 205.7554 - val_mae: 11.4162\n",
      "Epoch 20/100\n",
      "\u001b[1m5188/5188\u001b[0m \u001b[32m━━━━━━━━━━━━━━━━━━━━\u001b[0m\u001b[37m\u001b[0m \u001b[1m54s\u001b[0m 10ms/step - loss: 167.6758 - mae: 9.8592 - val_loss: 212.5428 - val_mae: 11.6235\n",
      "Epoch 21/100\n",
      "\u001b[1m5188/5188\u001b[0m \u001b[32m━━━━━━━━━━━━━━━━━━━━\u001b[0m\u001b[37m\u001b[0m \u001b[1m56s\u001b[0m 11ms/step - loss: 166.7580 - mae: 9.8319 - val_loss: 209.6192 - val_mae: 11.4018\n",
      "Epoch 22/100\n",
      "\u001b[1m5188/5188\u001b[0m \u001b[32m━━━━━━━━━━━━━━━━━━━━\u001b[0m\u001b[37m\u001b[0m \u001b[1m20s\u001b[0m 4ms/step - loss: 164.7076 - mae: 9.7455 - val_loss: 194.2135 - val_mae: 10.9281\n",
      "Epoch 23/100\n",
      "\u001b[1m5188/5188\u001b[0m \u001b[32m━━━━━━━━━━━━━━━━━━━━\u001b[0m\u001b[37m\u001b[0m \u001b[1m18s\u001b[0m 4ms/step - loss: 165.9672 - mae: 9.8057 - val_loss: 199.9064 - val_mae: 11.1583\n",
      "Epoch 24/100\n",
      "\u001b[1m5188/5188\u001b[0m \u001b[32m━━━━━━━━━━━━━━━━━━━━\u001b[0m\u001b[37m\u001b[0m \u001b[1m60s\u001b[0m 12ms/step - loss: 164.7080 - mae: 9.7710 - val_loss: 194.6319 - val_mae: 11.0171\n",
      "Epoch 25/100\n",
      "\u001b[1m5188/5188\u001b[0m \u001b[32m━━━━━━━━━━━━━━━━━━━━\u001b[0m\u001b[37m\u001b[0m \u001b[1m20s\u001b[0m 4ms/step - loss: 166.7776 - mae: 9.8216 - val_loss: 201.6208 - val_mae: 11.2363\n",
      "Epoch 26/100\n",
      "\u001b[1m5188/5188\u001b[0m \u001b[32m━━━━━━━━━━━━━━━━━━━━\u001b[0m\u001b[37m\u001b[0m \u001b[1m17s\u001b[0m 3ms/step - loss: 165.5130 - mae: 9.7770 - val_loss: 197.2457 - val_mae: 11.0889\n",
      "Epoch 27/100\n",
      "\u001b[1m5188/5188\u001b[0m \u001b[32m━━━━━━━━━━━━━━━━━━━━\u001b[0m\u001b[37m\u001b[0m \u001b[1m18s\u001b[0m 3ms/step - loss: 164.7741 - mae: 9.7769 - val_loss: 194.8276 - val_mae: 10.9709\n"
     ]
    }
   ],
   "source": [
    "history = ann.fit(x_train , y_train , epochs = 100 , batch_size = 32 , callbacks = [early_stop] , validation_data = (x_test , y_test) , verbose = 1)"
   ]
  },
  {
   "cell_type": "code",
   "execution_count": 17,
   "id": "f5623f6d",
   "metadata": {},
   "outputs": [
    {
     "name": "stdout",
     "output_type": "stream",
     "text": [
      "\u001b[1m1730/1730\u001b[0m \u001b[32m━━━━━━━━━━━━━━━━━━━━\u001b[0m\u001b[37m\u001b[0m \u001b[1m2s\u001b[0m 1ms/step - loss: 193.8488 - mae: 10.9175\n",
      "Test Loss: 194.2135\n",
      "Mean Absolute Error : 10.9281\n"
     ]
    }
   ],
   "source": [
    "loss , accuracy = ann.evaluate(x_test , y_test)\n",
    "print(f'Test Loss: {loss:.4f}')\n",
    "print(f'Mean Absolute Error : {accuracy:.4f}')"
   ]
  },
  {
   "cell_type": "code",
   "execution_count": 18,
   "id": "3e6c4795",
   "metadata": {},
   "outputs": [
    {
     "name": "stderr",
     "output_type": "stream",
     "text": [
      "WARNING:absl:You are saving your model as an HDF5 file via `model.save()` or `keras.saving.save_model(model)`. This file format is considered legacy. We recommend using instead the native Keras format, e.g. `model.save('my_model.keras')` or `keras.saving.save_model(model, 'my_model.keras')`. \n"
     ]
    }
   ],
   "source": [
    "ann.save('SpotifAI_ann_project/spotify_ann_model.h5')"
   ]
  },
  {
   "cell_type": "code",
   "execution_count": 19,
   "id": "a73d9cf9",
   "metadata": {},
   "outputs": [
    {
     "data": {
      "image/png": "[encoded data removed]",
      "text/plain": [
       "<Figure size 640x480 with 1 Axes>"
      ]
     },
     "metadata": {},
     "output_type": "display_data"
    }
   ],
   "source": [
    "plt.plot(history.history['loss'])\n",
    "plt.plot(history.history['val_loss'])\n",
    "plt.title('Model Loss')\n",
    "plt.ylabel('Loss')\n",
    "plt.xlabel('Epochs')\n",
    "plt.legend(['Train' , 'Validation'])\n",
    "plt.show()"
   ]
  }
 ],
 "metadata": {
  "kernelspec": {
   "display_name": "Python 3",
   "language": "python",
   "name": "python3"
  },
  "language_info": {
   "codemirror_mode": {
    "name": "ipython",
    "version": 3
   },
   "file_extension": ".py",
   "mimetype": "text/x-python",
   "name": "python",
   "nbconvert_exporter": "python",
   "pygments_lexer": "ipython3",
   "version": "3.10.0"
  }
 },
 "nbformat": 4,
 "nbformat_minor": 5
}
